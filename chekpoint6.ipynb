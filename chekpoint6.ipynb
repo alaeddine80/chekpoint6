{
 "cells": [
  {
   "cell_type": "code",
   "execution_count": 46,
   "metadata": {
    "scrolled": true
   },
   "outputs": [
    {
     "name": "stdout",
     "output_type": "stream",
     "text": [
      "0 3\n",
      "0 3\n",
      "3 0\n",
      "3 0\n"
     ]
    }
   ],
   "source": [
    "elem=[10,20,10,40,50,60,70]\n",
    "i + y==50\n",
    "for i in elem :\n",
    "    for y in elem:\n",
    "        if i+y==50:\n",
    "            print(elem.index(i),elem.index(y))"
   ]
  },
  {
   "cell_type": "code",
   "execution_count": 83,
   "metadata": {
    "scrolled": true
   },
   "outputs": [
    {
     "name": "stdout",
     "output_type": "stream",
     "text": [
      "4\n",
      "5\n",
      "6\n",
      "['4'] ['5'] ['6'] ['4', '5'] ['4', '6'] ['5', '6'] ['4', '5', '6']\n"
     ]
    }
   ],
   "source": [
    "class Subset:\n",
    "    x=input()\n",
    "    y=input()\n",
    "    z=input()\n",
    "set= Subset()\n",
    "print([set.x],[set.y],[set.z],[set.x ,set.y],[set.x,set.z],[set.y,set.z],[set.x,set.y,set.z])"
   ]
  },
  {
   "cell_type": "code",
   "execution_count": 34,
   "metadata": {
    "scrolled": true
   },
   "outputs": [
    {
     "name": "stdout",
     "output_type": "stream",
     "text": [
      "-10 2 8\n",
      "-10 8 2\n",
      "-7 -3 10\n",
      "-7 10 -3\n",
      "-3 -7 10\n",
      "-3 10 -7\n",
      "2 -10 8\n",
      "2 8 -10\n",
      "8 -10 2\n",
      "8 2 -10\n",
      "10 -7 -3\n",
      "10 -3 -7\n"
     ]
    }
   ],
   "source": [
    "list=[-25, -10, -7, -3, 2, 4, 8, 10]\n",
    "for i in list:\n",
    "    for y in list:\n",
    "        for z in list:\n",
    "            if i+y+z==0:\n",
    "                print(i,y,z)\n",
    "        \n",
    "        "
   ]
  },
  {
   "cell_type": "code",
   "execution_count": null,
   "metadata": {},
   "outputs": [],
   "source": []
  },
  {
   "cell_type": "code",
   "execution_count": 87,
   "metadata": {},
   "outputs": [
    {
     "ename": "NameError",
     "evalue": "name 'x' is not defined",
     "output_type": "error",
     "traceback": [
      "\u001b[1;31m---------------------------------------------------------------------------\u001b[0m",
      "\u001b[1;31mNameError\u001b[0m                                 Traceback (most recent call last)",
      "\u001b[1;32m<ipython-input-87-47da3be76910>\u001b[0m in \u001b[0;36m<module>\u001b[1;34m\u001b[0m\n\u001b[0;32m      9\u001b[0m                     \u001b[1;32mreturn\u001b[0m\u001b[1;33m\u001b[0m\u001b[1;33m\u001b[0m\u001b[0m\n\u001b[0;32m     10\u001b[0m \u001b[0mn\u001b[0m\u001b[1;33m=\u001b[0m\u001b[0melem\u001b[0m\u001b[1;33m(\u001b[0m\u001b[1;36m10\u001b[0m\u001b[1;33m,\u001b[0m\u001b[1;36m20\u001b[0m\u001b[1;33m,\u001b[0m\u001b[1;36m10\u001b[0m\u001b[1;33m,\u001b[0m\u001b[1;36m40\u001b[0m\u001b[1;33m,\u001b[0m\u001b[1;36m50\u001b[0m\u001b[1;33m,\u001b[0m\u001b[1;36m60\u001b[0m\u001b[1;33m,\u001b[0m\u001b[1;36m70\u001b[0m\u001b[1;33m)\u001b[0m\u001b[1;33m\u001b[0m\u001b[1;33m\u001b[0m\u001b[0m\n\u001b[1;32m---> 11\u001b[1;33m \u001b[0mprint\u001b[0m\u001b[1;33m(\u001b[0m\u001b[0mx\u001b[0m\u001b[1;33m,\u001b[0m\u001b[0my\u001b[0m\u001b[1;33m)\u001b[0m\u001b[1;33m\u001b[0m\u001b[1;33m\u001b[0m\u001b[0m\n\u001b[0m",
      "\u001b[1;31mNameError\u001b[0m: name 'x' is not defined"
     ]
    }
   ],
   "source": [
    "# question4\n",
    "n=[10,20,10,40,50,60,70]\n",
    "class elem:\n",
    "    def __init__(self,x,y,z,e,b,c,a):\n",
    "        self.x,self.y,self.z,self.e,self.b,self.c,self.a=x,y,z,e,b,c,a\n",
    "        for x in n:\n",
    "            for y in n:\n",
    "                if x+y==0:\n",
    "                    return            \n",
    "n=elem(10,20,10,40,50,60,70)\n",
    "print(x,y)"
   ]
  }
 ],
 "metadata": {
  "kernelspec": {
   "display_name": "Python 3",
   "language": "python",
   "name": "python3"
  },
  "language_info": {
   "codemirror_mode": {
    "name": "ipython",
    "version": 3
   },
   "file_extension": ".py",
   "mimetype": "text/x-python",
   "name": "python",
   "nbconvert_exporter": "python",
   "pygments_lexer": "ipython3",
   "version": "3.8.5"
  }
 },
 "nbformat": 4,
 "nbformat_minor": 4
}
